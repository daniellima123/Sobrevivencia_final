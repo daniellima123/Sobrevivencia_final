{
 "cells": [
  {
   "cell_type": "code",
   "execution_count": 2,
   "metadata": {},
   "outputs": [
    {
     "data": {
      "text/html": [
       "<script>\n",
       "code_show=true; \n",
       "function code_toggle() {\n",
       " if (code_show){\n",
       " $('div.input').hide();\n",
       " } else {\n",
       " $('div.input').show();\n",
       " }\n",
       " code_show = !code_show\n",
       "} \n",
       "$( document ).ready(code_toggle);\n",
       "</script>\n",
       "The raw code for this IPython notebook is by default hidden for easier reading.\n",
       "To toggle on/off the raw code, click <a href=\"javascript:code_toggle()\">here</a>."
      ],
      "text/plain": [
       "<IPython.core.display.HTML object>"
      ]
     },
     "execution_count": 2,
     "metadata": {},
     "output_type": "execute_result"
    }
   ],
   "source": [
    "from IPython.display import HTML\n",
    "HTML('''<script>\n",
    "code_show=true; \n",
    "function code_toggle() {\n",
    " if (code_show){\n",
    " $('div.input').hide();\n",
    " } else {\n",
    " $('div.input').show();\n",
    " }\n",
    " code_show = !code_show\n",
    "} \n",
    "$( document ).ready(code_toggle);\n",
    "</script>\n",
    "The raw code for this IPython notebook is by default hidden for easier reading.\n",
    "To toggle on/off the raw code, click <a href=\"javascript:code_toggle()\">here</a>.''')\n",
    "\n"
   ]
  },
  {
   "cell_type": "markdown",
   "metadata": {},
   "source": [
    "# Atividade Final Análise de Sobrevivência\n",
    "## Aluno: Daniel Lima Viegas\n",
    "## Matrícula: 14/0168109"
   ]
  },
  {
   "cell_type": "markdown",
   "metadata": {},
   "source": [
    "### Questão 1\n",
    "Considere um conjunto de dados fictícios sobre um estudo do efeito de um novo medicamento para alivio da dor de cabeça em pacientes com enxaqueca crônica. Foram selecionados indivíduos com histórico de enxaqueca crônica que apresentam pelo menos uma crise por semana e os mesmos foram instruídos a tomar o medicamento fornecido assim que iniciasse a dor de cabeça, anotando o tempo até o alivio da dor. Os pacientes foram aleatorizados em dois grupos: o grupo Medicamento, que recebeu o novo medicamento e um grupo Controle (que receberam placebo). O experimento foi cego, de forma que todos os participantes acreditassem que receberam o novo medicamento. Os dados, separados por grupo de medicação, estão em arquivo Excel (dados_Lista.xlsx). A coleta de dados ocorreu em uma semana. Os pacientes receberam as instruções e o medicamento na segunda-feira (dia 02/05/2016), e na sexta-feira (06/05/2016) a equipe entrou em contato com cada um dos pacientes para que eles informassem a data e hora do início e do fim da dor.\n",
    "\tFaça uma análise **não paramétrica** dos dados, apresentando:\n",
    "\n",
    "1)  A estimativa da função de sobrevivência, com seus respectivos intervalos de confiança (para ambos grupos);\n",
    "\n",
    "2)  As estimativas da média e mediana do tempo até o alivio da dor com seus respectivos intervalos de confiança (para ambos grupos);\n",
    "\n",
    "3)  O gráfico da Vida Média Residual (para ambos grupos);\n",
    "\n",
    "4)  Verifique se é possível considerar que o risco dos dois grupos são proporcionais no tempo\n",
    "\n",
    "5)  Faça um teste de hipóteses comparando os dois grupos e responda: o medicamento é eficiente?\n",
    "\n",
    "6)  apresente os algoritmos utilizados no R (SAS ou outro programa utilizado) para a resolução dos itens anteriores."
   ]
  },
  {
   "cell_type": "markdown",
   "metadata": {},
   "source": [
    "### Resolução Questão 1\n",
    "#### 1)\n",
    "\n",
    "A função de sobrevivência será estimada a partir do estimador de Kaplan-Meier."
   ]
  },
  {
   "cell_type": "code",
   "execution_count": null,
   "metadata": {
    "collapsed": true
   },
   "outputs": [],
   "source": [
    "import pandas as pd\n",
    "import lifelines as ll\n",
    "\n",
    "df = read_csv(\"\")"
   ]
  }
 ],
 "metadata": {
  "celltoolbar": "Attachments",
  "kernelspec": {
   "display_name": "Python 3",
   "language": "python",
   "name": "python3"
  },
  "language_info": {
   "codemirror_mode": {
    "name": "ipython",
    "version": 3
   },
   "file_extension": ".py",
   "mimetype": "text/x-python",
   "name": "python",
   "nbconvert_exporter": "python",
   "pygments_lexer": "ipython3",
   "version": "3.6.1"
  }
 },
 "nbformat": 4,
 "nbformat_minor": 2
}
